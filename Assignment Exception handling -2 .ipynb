{
 "cells": [
  {
   "cell_type": "markdown",
   "id": "b99fb73a-1a14-472d-a36a-c093d4a62d1c",
   "metadata": {},
   "source": [
    "# Assignment Exception Handling - 2"
   ]
  },
  {
   "cell_type": "markdown",
   "id": "6cb64d6b-2381-4006-b37e-6f16a1062b3d",
   "metadata": {},
   "source": [
    "## Q1. Explain why we have to use the Exception class while creating a Custom Exception.\n",
    "### Note: Here Exception class refers to the base class for all the exceptions.\n",
    "### Answer:"
   ]
  },
  {
   "cell_type": "markdown",
   "id": "c2f339c8-d798-4f8f-a1ed-5be666d0e101",
   "metadata": {},
   "source": [
    "### We use the Exception class as a base class while creating a custom exception because it provides the basic functionalities that are required for an exception to function properly.\n",
    "\n",
    "### When we create a custom exception, we need to define the behavior of the exception when it is raised, caught, or propagated. The Exception class already has the necessary methods and attributes, such as __init__(), args, raise, try-except, and traceback, that enable us to specify these behaviors easily.\n",
    "\n",
    "### By using the Exception class as a base class, we can inherit all these functionalities and customize them as per our requirements. We can define the error message that the exception should display, handle the exception in a specific way, and add any additional functionalities that we need.\n",
    "\n",
    "## Here is an example of how we can create a custom exception by inheriting from the Exception class:"
   ]
  },
  {
   "cell_type": "code",
   "execution_count": 2,
   "id": "8603d3e0-16ce-4c47-9c4b-00fbf151a31f",
   "metadata": {},
   "outputs": [
    {
     "name": "stdout",
     "output_type": "stream",
     "text": [
      "This is a custom exception\n"
     ]
    }
   ],
   "source": [
    "class CustomException(Exception):\n",
    "    def __init__(self, message):\n",
    "        self.message = message\n",
    "        super().__init__(self.message)\n",
    "\n",
    "try:\n",
    "    raise CustomException(\"This is a custom exception\")\n",
    "except CustomException as e:\n",
    "    print(e.message)\n"
   ]
  },
  {
   "cell_type": "markdown",
   "id": "3051d260-3da6-4930-891d-1a92c44b0284",
   "metadata": {},
   "source": [
    "## Q2. Write a python program to print Python Exception Hierarchy.\n",
    "### Answer:-"
   ]
  },
  {
   "cell_type": "code",
   "execution_count": 3,
   "id": "508346cd-183e-4b4a-938d-7cd913d8bd04",
   "metadata": {},
   "outputs": [
    {
     "name": "stdout",
     "output_type": "stream",
     "text": [
      "Exception caught: division by zero\n",
      "Finally block executed\n"
     ]
    }
   ],
   "source": [
    "try:\n",
    "    x = 1 / 0\n",
    "except Exception as e:\n",
    "    print(\"Exception caught:\", e)\n",
    "else:\n",
    "    print(\"No exception raised\")\n",
    "finally:\n",
    "    print(\"Finally block executed\")\n"
   ]
  },
  {
   "cell_type": "markdown",
   "id": "1ad2cf6c-dae2-4a8e-8089-3dc9c52e1e8e",
   "metadata": {},
   "source": [
    "## Q3. What errors are defined in the ArithmeticError class? Explain any two with an example.\n",
    "### Answer:-"
   ]
  },
  {
   "cell_type": "markdown",
   "id": "b322d332-e24b-44aa-bfc9-fe650ed0c13f",
   "metadata": {},
   "source": [
    "### The ArithmeticError class is a built-in exception class in Python that is raised when an arithmetic operation fails. It is the base class for all exceptions that are related to arithmetic errors. Some of the errors that are defined in the ArithmeticError class are:\n",
    "### 1. ZeroDivisionError: This error is raised when an attempt is made to divide a number by zero. For example:"
   ]
  },
  {
   "cell_type": "code",
   "execution_count": null,
   "id": "2fa0ea3e-f1d5-4872-87d8-aa14a7e5ec92",
   "metadata": {},
   "outputs": [],
   "source": [
    "# This will raise a ZeroDivisionError\n",
    "x = 1 / 0\n"
   ]
  },
  {
   "cell_type": "markdown",
   "id": "4c161be8-2863-4d87-87bb-dd4da23fc450",
   "metadata": {},
   "source": [
    "### 2. OverflowError: This error is raised when a calculation produces a result that is too large to be represented by the available memory. For example:"
   ]
  },
  {
   "cell_type": "code",
   "execution_count": null,
   "id": "ac3fe70b-49db-4c52-9c13-957e6c3647e6",
   "metadata": {},
   "outputs": [],
   "source": [
    "# This will raise an OverflowError\n",
    "x = 2 ** 1000000\n"
   ]
  },
  {
   "cell_type": "markdown",
   "id": "3f0800e1-5f26-4171-9aef-0b708db3551c",
   "metadata": {},
   "source": [
    "### 3.FloatingPointError: This error is raised when a floating-point calculation fails. For example, when trying to take the square root of a negative number:"
   ]
  },
  {
   "cell_type": "code",
   "execution_count": null,
   "id": "92834016-4147-49ca-91f7-42381c06941f",
   "metadata": {},
   "outputs": [],
   "source": [
    "# This will raise a FloatingPointError\n",
    "import math\n",
    "x = math.sqrt(-1)\n"
   ]
  },
  {
   "cell_type": "markdown",
   "id": "f773a16f-dbdb-43ce-a8e8-38d0634614ce",
   "metadata": {},
   "source": [
    "### 4.ArithmeticError: This error is raised when an arithmetic operation fails, but the specific error is not covered by another exception. For example:"
   ]
  },
  {
   "cell_type": "code",
   "execution_count": null,
   "id": "694a89c0-b457-443e-8b1e-9fae59c5a0d0",
   "metadata": {},
   "outputs": [],
   "source": [
    "# This will raise an ArithmeticError\n",
    "x = 1 / 'a'\n"
   ]
  },
  {
   "cell_type": "markdown",
   "id": "f9923818-cd8a-4a1e-9e34-8fa54562e32d",
   "metadata": {},
   "source": [
    "### Two of the errors that are defined in the ArithmeticError class are ZeroDivisionError and OverflowError.\n",
    "### ZeroDivisionError is raised when an attempt is made to divide a number by zero. For example:"
   ]
  },
  {
   "cell_type": "code",
   "execution_count": 5,
   "id": "c99483dd-36c3-4dbc-9a9a-069e2f2c27b8",
   "metadata": {},
   "outputs": [
    {
     "name": "stdout",
     "output_type": "stream",
     "text": [
      "ZeroDivisionError: division by zero\n"
     ]
    }
   ],
   "source": [
    "try:\n",
    "    x = 1 / 0\n",
    "except ZeroDivisionError as e:\n",
    "    print(\"ZeroDivisionError:\", e)\n"
   ]
  },
  {
   "cell_type": "markdown",
   "id": "855cef52-99b0-4c46-adf8-6bee96efee71",
   "metadata": {},
   "source": [
    "### OverflowError is raised when a calculation produces a result that is too large to be represented by the available memory. For example:"
   ]
  },
  {
   "cell_type": "code",
   "execution_count": 9,
   "id": "f58f21d7-aa2f-4519-8939-e8d9e2b26d87",
   "metadata": {},
   "outputs": [],
   "source": [
    "try:\n",
    "    x = 2 ** 1000000\n",
    "except OverflowError as e:\n",
    "    print(\"OverflowError:\", e)\n"
   ]
  },
  {
   "cell_type": "markdown",
   "id": "140ab22f-37db-4e7a-bc2c-73a03416ef05",
   "metadata": {},
   "source": [
    "## Q4. Why LookupError class is used? Explain with an example KeyError and IndexError."
   ]
  },
  {
   "cell_type": "markdown",
   "id": "4f789999-c98f-483a-88fd-b473a1f08f7a",
   "metadata": {},
   "source": [
    "### Answer:-\n",
    "### The LookupError class is a built-in exception class in Python that is the base class for all exceptions that are related to lookup errors. It is raised when a key or index used to access a container (such as a list, dictionary, or tuple) is invalid. The LookupError class is used to catch all exceptions that are related to lookup errors, including KeyError and IndexError.\n",
    "\n",
    "### KeyError is raised when an attempt is made to access a dictionary key that does not exist. For example:"
   ]
  },
  {
   "cell_type": "code",
   "execution_count": 10,
   "id": "4ea696b7-ad2d-43f3-871d-7ffcb29bf2ad",
   "metadata": {},
   "outputs": [
    {
     "name": "stdout",
     "output_type": "stream",
     "text": [
      "KeyError: 'd'\n"
     ]
    }
   ],
   "source": [
    "my_dict = {'a': 1, 'b': 2, 'c': 3}\n",
    "\n",
    "try:\n",
    "    value = my_dict['d']\n",
    "except KeyError as e:\n",
    "    print(\"KeyError:\", e)\n"
   ]
  },
  {
   "cell_type": "markdown",
   "id": "7e14d558-d4d7-403f-acd7-bb44644b503c",
   "metadata": {},
   "source": [
    "### IndexError is raised when an attempt is made to access an index that is out of range for a list or tuple. For example:"
   ]
  },
  {
   "cell_type": "code",
   "execution_count": 11,
   "id": "59907d4c-ef1f-40ee-ad5e-954315196186",
   "metadata": {},
   "outputs": [
    {
     "name": "stdout",
     "output_type": "stream",
     "text": [
      "IndexError: list index out of range\n"
     ]
    }
   ],
   "source": [
    "my_list = [1, 2, 3]\n",
    "\n",
    "try:\n",
    "    value = my_list[3]\n",
    "except IndexError as e:\n",
    "    print(\"IndexError:\", e)\n"
   ]
  },
  {
   "cell_type": "markdown",
   "id": "883c81a6-7ac7-4592-97da-0b4436969413",
   "metadata": {},
   "source": [
    "### Both KeyError and IndexError are subclasses of the LookupError class. Therefore, we can use LookupError to catch both types of exceptions:"
   ]
  },
  {
   "cell_type": "code",
   "execution_count": 12,
   "id": "81b0517b-72bb-46d7-8b76-779e6258a29e",
   "metadata": {},
   "outputs": [
    {
     "name": "stdout",
     "output_type": "stream",
     "text": [
      "LookupError: 'd'\n",
      "LookupError: list index out of range\n"
     ]
    }
   ],
   "source": [
    "my_dict = {'a': 1, 'b': 2, 'c': 3}\n",
    "\n",
    "try:\n",
    "    value = my_dict['d']\n",
    "except LookupError as e:\n",
    "    print(\"LookupError:\", e)\n",
    "\n",
    "my_list = [1, 2, 3]\n",
    "\n",
    "try:\n",
    "    value = my_list[3]\n",
    "except LookupError as e:\n",
    "    print(\"LookupError:\", e)\n"
   ]
  },
  {
   "cell_type": "markdown",
   "id": "e736d13b-69ef-45be-bae6-4c02171569e3",
   "metadata": {},
   "source": [
    "## Q5. Explain ImportError. What is ModuleNotFoundError?\n",
    "### Answer:-"
   ]
  },
  {
   "cell_type": "markdown",
   "id": "4d968874-5f4f-4831-89fe-7448f40ded10",
   "metadata": {},
   "source": [
    "### ImportError is a built-in exception class in Python that is raised when a module or a function could not be imported successfully. It can occur when a module name is misspelled, a module is not installed, or there is an issue with the code inside the module.\n",
    "\n",
    "### For example, if we try to import a module that does not exist, an ImportError exception will be raised:"
   ]
  },
  {
   "cell_type": "code",
   "execution_count": 13,
   "id": "e93207ef-32d9-4b05-8137-9bf62516ba98",
   "metadata": {},
   "outputs": [
    {
     "name": "stdout",
     "output_type": "stream",
     "text": [
      "ImportError: No module named 'non_existent_module'\n"
     ]
    }
   ],
   "source": [
    "try:\n",
    "    import non_existent_module\n",
    "except ImportError as e:\n",
    "    print(\"ImportError:\", e)\n"
   ]
  },
  {
   "cell_type": "markdown",
   "id": "e5ebda30-d3c8-4152-9c2a-76ee611936bb",
   "metadata": {},
   "source": [
    "### ModuleNotFoundError is a subclass of ImportError that was introduced in Python 3.6. It is raised when a module could not be found during the import process. This is usually due to a misspelled module name or a module that has not been installed.\n",
    "\n",
    "### For example, if we try to import a module that does not exist using the import statement, a ModuleNotFoundError exception will be raised:"
   ]
  },
  {
   "cell_type": "code",
   "execution_count": 14,
   "id": "c5162686-8a3c-4118-8238-debd90d2bc9e",
   "metadata": {},
   "outputs": [
    {
     "name": "stdout",
     "output_type": "stream",
     "text": [
      "ModuleNotFoundError: No module named 'non_existent_module'\n"
     ]
    }
   ],
   "source": [
    "try:\n",
    "    import non_existent_module\n",
    "except ModuleNotFoundError as e:\n",
    "    print(\"ModuleNotFoundError:\", e)\n"
   ]
  },
  {
   "cell_type": "markdown",
   "id": "6d5790c9-895b-4231-8d6a-1a959cc4ae4d",
   "metadata": {},
   "source": [
    "## Q6. List down some best practices for exception handling in python.\n",
    "### Answer:-"
   ]
  },
  {
   "cell_type": "code",
   "execution_count": 15,
   "id": "bf511365-dfb2-4877-8cd6-aca0c41c0976",
   "metadata": {},
   "outputs": [
    {
     "name": "stdout",
     "output_type": "stream",
     "text": [
      "division by zero\n"
     ]
    }
   ],
   "source": [
    "# use Always a specific exception\n",
    "try:\n",
    "    10/0\n",
    "except Exception as e:\n",
    "    print(e)"
   ]
  },
  {
   "cell_type": "code",
   "execution_count": 16,
   "id": "8a672b6f-3736-4622-a3b7-cd40b7704206",
   "metadata": {},
   "outputs": [
    {
     "name": "stdout",
     "output_type": "stream",
     "text": [
      "I am Trying to handle zero division error division by zero\n"
     ]
    }
   ],
   "source": [
    "# print always a prpper message\n",
    "try:\n",
    "    10/0\n",
    "except ZeroDivisionError as e:\n",
    "    print(\"I am Trying to handle zero division error\",e)"
   ]
  },
  {
   "cell_type": "code",
   "execution_count": 21,
   "id": "bf8b17f3-8e85-4acd-a552-d24148d2f8e9",
   "metadata": {},
   "outputs": [],
   "source": [
    "#always try to log your error\n",
    "import logging\n",
    "logging.basicConfig(filename=\"error1.log\",level=logging.ERROR)\n",
    "try:\n",
    "    10/0\n",
    "except ZeroDivisionError as e:\n",
    "    logging.error(\"I am Trying to handle zero division error {}\".format(e))"
   ]
  },
  {
   "cell_type": "code",
   "execution_count": 19,
   "id": "136b7c11-bb11-433f-bb81-29866e123dd9",
   "metadata": {},
   "outputs": [],
   "source": [
    "#alwyas avoid to write a multiple exception handling \n",
    "try :\n",
    "    10/0\n",
    "except FileNotFoundError as e : \n",
    "    logging.error(\"i am handling file not found  {} \".format(e) )\n",
    "except AttributeError as e : \n",
    "    logging.error(\"i am handling Attribute erro  {} \".format(e) )\n",
    "except ZeroDivisionError as e :\n",
    "    logging.error(\"i am trying to handle a zerodivision error {} \".format(e) )"
   ]
  },
  {
   "cell_type": "code",
   "execution_count": 20,
   "id": "b22da1da-d911-4e50-8163-afce7e48367e",
   "metadata": {},
   "outputs": [],
   "source": [
    "# Document all the error \n",
    "# cleanup all the resourse\n",
    "try:\n",
    "    with open(\"test.txt\",\"w\") as f :\n",
    "        f.write(\"this is my data to file\")\n",
    "except FileNotFoundError as e :\n",
    "    logging.error(\"i am handling file not found {}\",format(e))\n",
    "finally:\n",
    "    f.close()"
   ]
  },
  {
   "cell_type": "code",
   "execution_count": null,
   "id": "86cdc1ea-68e3-40b4-aa61-7b45cbb85136",
   "metadata": {},
   "outputs": [],
   "source": []
  }
 ],
 "metadata": {
  "kernelspec": {
   "display_name": "Python 3 (ipykernel)",
   "language": "python",
   "name": "python3"
  },
  "language_info": {
   "codemirror_mode": {
    "name": "ipython",
    "version": 3
   },
   "file_extension": ".py",
   "mimetype": "text/x-python",
   "name": "python",
   "nbconvert_exporter": "python",
   "pygments_lexer": "ipython3",
   "version": "3.10.8"
  }
 },
 "nbformat": 4,
 "nbformat_minor": 5
}
